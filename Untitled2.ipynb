{
  "nbformat": 4,
  "nbformat_minor": 0,
  "metadata": {
    "colab": {
      "name": "Untitled2.ipynb",
      "provenance": [],
      "authorship_tag": "ABX9TyOT+mveoK0+SPU9ZwCW02DR",
      "include_colab_link": true
    },
    "kernelspec": {
      "name": "python3",
      "display_name": "Python 3"
    }
  },
  "cells": [
    {
      "cell_type": "markdown",
      "metadata": {
        "id": "view-in-github",
        "colab_type": "text"
      },
      "source": [
        "<a href=\"https://colab.research.google.com/github/lutfiiwy/Tugas-Daspro-Jobsheet5-/blob/main/Untitled2.ipynb\" target=\"_parent\"><img src=\"https://colab.research.google.com/assets/colab-badge.svg\" alt=\"Open In Colab\"/></a>"
      ]
    },
    {
      "cell_type": "code",
      "metadata": {
        "colab": {
          "base_uri": "https://localhost:8080/"
        },
        "id": "7AnILk4COwce",
        "outputId": "69b40b3a-e2f8-48cf-dd46-94e2e4989043"
      },
      "source": [
        "foo=[\"Belajar\",\"Python\",\"di\",\"Duniailkom\"]\n",
        "bar=[100,200,300,400]\n",
        "baz=[\"Pyhton\",200,6.99, True]\n",
        "#Mengakses List \n",
        "print(foo[0])\n",
        "print(foo[1])\n",
        "print(foo[2])\n",
        "print(foo[3])\n"
      ],
      "execution_count": 1,
      "outputs": [
        {
          "output_type": "stream",
          "text": [
            "Belajar\n",
            "Python\n",
            "di\n",
            "Duniailkom\n"
          ],
          "name": "stdout"
        }
      ]
    },
    {
      "cell_type": "code",
      "metadata": {
        "id": "qtgnGAQYP00h"
      },
      "source": [
        "foo =[\"Python\",200,6.99,True,'Duniailkom',99j]\n",
        "print(foo)\n",
        "\n",
        "#Mengganti list\n",
        "foo[0]='Belajar'\n",
        "foo[2]= 9.99\n",
        "print(foo)    \n",
        "\n",
        "\n"
      ],
      "execution_count": null,
      "outputs": []
    },
    {
      "cell_type": "code",
      "metadata": {
        "id": "Z6_efnZQP5AY"
      },
      "source": [
        "foo =[\"Python\",200,6.99,True,'Duniailkom',99j]\n",
        "#Menampilkan sebagian list\n",
        "print(foo[2:5])\n",
        "print(foo[:3])\n",
        "print(foo[0:4])\n",
        "print(foo[:])\n",
        "\n"
      ],
      "execution_count": null,
      "outputs": []
    },
    {
      "cell_type": "code",
      "metadata": {
        "id": "xrrGsHlvP7i5"
      },
      "source": [
        "#Membuat TUPLE\n",
        "foo =[\"Belajar\",\"Python\",\"di\",\"Duniailkom\"]\n",
        "print(type(foo))\n",
        "foo =(\"Belajar\",\"Python\",\"di\",\"Duniailkom\")\n",
        "print(type(foo))\n"
      ],
      "execution_count": null,
      "outputs": []
    },
    {
      "cell_type": "code",
      "metadata": {
        "id": "5EfNFi9hP91s"
      },
      "source": [
        "foo =(\"Python\",200,6.99,True,'Duniailkom',99j)\n",
        "#Mengakses Tuple\n",
        "print(foo[0])\n",
        "print(foo[2])\n",
        "print(foo[3:4])\n",
        "print(foo[:])\n"
      ],
      "execution_count": null,
      "outputs": []
    },
    {
      "cell_type": "code",
      "metadata": {
        "id": "l5vkPC1gP_im"
      },
      "source": [
        "foo =(\"Python\",200,6.99,True,'Duniailkom',99j)\n",
        "#Mengganti nilai tuple\n",
        "foo[0]='200'\n",
        "print(foo)\n"
      ],
      "execution_count": null,
      "outputs": []
    },
    {
      "cell_type": "code",
      "metadata": {
        "id": "38GGq0fGQCKs"
      },
      "source": [
        ""
      ],
      "execution_count": null,
      "outputs": []
    }
  ]
}